{
  "cells": [
    {
      "cell_type": "markdown",
      "metadata": {},
      "source": [
        "## Actividad 2 NLP\n",
        "\n",
        "Integrantes del equipo:\n",
        "- David Guzmán Leyva - A01706417\n",
        "- Enrique Santos Fraire - A01705746\n",
        "- Leonardo Alvarado Menéndez - A01705998\n",
        "- Oscar Enrique Delgadillo Ochoa - A01705935\n",
        "\n",
        "Actividades:\n",
        "1. Con base en el ejercicio realizado en la clase del 25 de Octubre, mejorar el modelo de red neuronal recurrente para alcanzar un accuracy >= 90%"
      ]
    },
    {
      "cell_type": "code",
      "execution_count": 1,
      "metadata": {
        "id": "vWYFj_Q6_aNr"
      },
      "outputs": [],
      "source": [
        "import numpy as np\n",
        "#PyTorch libraries\n",
        "import torch\n",
        "from torchtext.datasets import AG_NEWS\n",
        "from torch import nn\n",
        "from torch.nn import functional as F\n",
        "# Dataset and dataloader\n",
        "from torch.utils.data import DataLoader\n",
        "from torch.utils.data.dataset import random_split\n",
        "# Libraries to prepare the data\n",
        "from torchtext.data.utils import get_tokenizer\n",
        "from torchtext.vocab import build_vocab_from_iterator\n",
        "from torchtext.data.functional import to_map_style_dataset"
      ]
    },
    {
      "cell_type": "code",
      "execution_count": 2,
      "metadata": {
        "colab": {
          "base_uri": "https://localhost:8080/"
        },
        "id": "ClE_Lmjz_wWa",
        "outputId": "c70e9282-f15f-4451-ecfd-842f222c14bc"
      },
      "outputs": [
        {
          "data": {
            "text/plain": [
              "False"
            ]
          },
          "execution_count": 2,
          "metadata": {},
          "output_type": "execute_result"
        }
      ],
      "source": [
        "torch.cuda.is_available()"
      ]
    },
    {
      "cell_type": "code",
      "execution_count": 3,
      "metadata": {
        "colab": {
          "base_uri": "https://localhost:8080/"
        },
        "id": "mlxnqTto_i6i",
        "outputId": "f6c89060-e75b-4ddd-ab2b-ac66f661d17c"
      },
      "outputs": [
        {
          "name": "stdout",
          "output_type": "stream",
          "text": [
            "cpu\n"
          ]
        }
      ],
      "source": [
        "# Use Gpu\n",
        "device = torch.device('cuda' if torch.cuda.is_available() else 'cpu')\n",
        "print(device)"
      ]
    },
    {
      "cell_type": "code",
      "execution_count": 4,
      "metadata": {
        "id": "uo7_mHXZAEiy"
      },
      "outputs": [],
      "source": [
        "train_dataset,  test_dataset = AG_NEWS()"
      ]
    },
    {
      "cell_type": "code",
      "execution_count": 5,
      "metadata": {
        "id": "Ww7qMmTIADh-"
      },
      "outputs": [],
      "source": [
        "train_dataset, test_dataset = to_map_style_dataset(train_dataset), to_map_style_dataset(test_dataset)"
      ]
    },
    {
      "cell_type": "code",
      "execution_count": 6,
      "metadata": {
        "colab": {
          "base_uri": "https://localhost:8080/"
        },
        "id": "1tlgrNdm_iTX",
        "outputId": "45473b90-48ad-4be4-f567-adb7fbe8f596"
      },
      "outputs": [
        {
          "data": {
            "text/plain": [
              "(120000, 7600)"
            ]
          },
          "execution_count": 6,
          "metadata": {},
          "output_type": "execute_result"
        }
      ],
      "source": [
        "len(train_dataset), len(test_dataset)"
      ]
    },
    {
      "cell_type": "code",
      "execution_count": 7,
      "metadata": {
        "colab": {
          "base_uri": "https://localhost:8080/"
        },
        "id": "rV6SdztXC-mO",
        "outputId": "6a129d98-e696-49f0-fa39-90a2bf426fae"
      },
      "outputs": [
        {
          "data": {
            "text/plain": [
              "[(3,\n",
              "  \"Wall St. Bears Claw Back Into the Black (Reuters) Reuters - Short-sellers, Wall Street's dwindling\\\\band of ultra-cynics, are seeing green again.\"),\n",
              " (3,\n",
              "  'Carlyle Looks Toward Commercial Aerospace (Reuters) Reuters - Private investment firm Carlyle Group,\\\\which has a reputation for making well-timed and occasionally\\\\controversial plays in the defense industry, has quietly placed\\\\its bets on another part of the market.'),\n",
              " (3,\n",
              "  \"Oil and Economy Cloud Stocks' Outlook (Reuters) Reuters - Soaring crude prices plus worries\\\\about the economy and the outlook for earnings are expected to\\\\hang over the stock market next week during the depth of the\\\\summer doldrums.\"),\n",
              " (3,\n",
              "  'Iraq Halts Oil Exports from Main Southern Pipeline (Reuters) Reuters - Authorities have halted oil export\\\\flows from the main pipeline in southern Iraq after\\\\intelligence showed a rebel militia could strike\\\\infrastructure, an oil official said on Saturday.'),\n",
              " (3,\n",
              "  'Oil prices soar to all-time record, posing new menace to US economy (AFP) AFP - Tearaway world oil prices, toppling records and straining wallets, present a new economic menace barely three months before the US presidential elections.'),\n",
              " (3,\n",
              "  'Stocks End Up, But Near Year Lows (Reuters) Reuters - Stocks ended slightly higher on Friday\\\\but stayed near lows for the year as oil prices surged past  #36;46\\\\a barrel, offsetting a positive outlook from computer maker\\\\Dell Inc. (DELL.O)'),\n",
              " (3,\n",
              "  \"Money Funds Fell in Latest Week (AP) AP - Assets of the nation's retail money market mutual funds fell by  #36;1.17 billion in the latest week to  #36;849.98 trillion, the Investment Company Institute said Thursday.\"),\n",
              " (3,\n",
              "  'Fed minutes show dissent over inflation (USATODAY.com) USATODAY.com - Retail sales bounced back a bit in July, and new claims for jobless benefits fell last week, the government said Thursday, indicating the economy is improving from a midsummer slump.'),\n",
              " (3,\n",
              "  'Safety Net (Forbes.com) Forbes.com - After earning a PH.D. in Sociology, Danny Bazil Riley started to work as the general manager at a commercial real estate firm at an annual base salary of  #36;70,000. Soon after, a financial planner stopped by his desk to drop off brochures about insurance benefits available through his employer. But, at 32, \"buying insurance was the furthest thing from my mind,\" says Riley.'),\n",
              " (3,\n",
              "  \"Wall St. Bears Claw Back Into the Black  NEW YORK (Reuters) - Short-sellers, Wall Street's dwindling  band of ultra-cynics, are seeing green again.\")]"
            ]
          },
          "execution_count": 7,
          "metadata": {},
          "output_type": "execute_result"
        }
      ],
      "source": [
        "train_dataset[:10]"
      ]
    },
    {
      "cell_type": "code",
      "execution_count": 8,
      "metadata": {
        "id": "GF_GOzndDpeO"
      },
      "outputs": [],
      "source": [
        "tokeniser = get_tokenizer('basic_english')\n",
        "def yield_tokens(data):\n",
        "  for _, text in data:\n",
        "    yield tokeniser(text)"
      ]
    },
    {
      "cell_type": "code",
      "execution_count": 9,
      "metadata": {
        "id": "pFNhwLrcDo9y"
      },
      "outputs": [],
      "source": [
        "vocab = build_vocab_from_iterator(yield_tokens(train_dataset), specials=['<unk>'])\n",
        "vocab.set_default_index(vocab['<unk>'])"
      ]
    },
    {
      "cell_type": "code",
      "execution_count": 10,
      "metadata": {
        "colab": {
          "base_uri": "https://localhost:8080/"
        },
        "id": "DzqCFvXP_gBF",
        "outputId": "963ea96a-ae10-4d48-8f88-4ee8ee268b67",
        "tags": []
      },
      "outputs": [
        {
          "data": {
            "text/plain": [
              "95811"
            ]
          },
          "execution_count": 10,
          "metadata": {},
          "output_type": "execute_result"
        }
      ],
      "source": [
        "len(vocab)"
      ]
    },
    {
      "cell_type": "code",
      "execution_count": 11,
      "metadata": {
        "colab": {
          "base_uri": "https://localhost:8080/"
        },
        "id": "ueaVr_hWEqdU",
        "outputId": "c32ca77b-bbd8-42f4-9bb2-f32dcd3f5899"
      },
      "outputs": [
        {
          "name": "stdout",
          "output_type": "stream",
          "text": [
            "0 <unk>\n",
            "1 .\n",
            "2 the\n",
            "3 ,\n",
            "4 to\n",
            "5 a\n",
            "6 of\n",
            "7 in\n",
            "8 and\n",
            "9 s\n",
            "10 on\n",
            "11 for\n",
            "12 #39\n",
            "13 (\n",
            "14 )\n",
            "15 -\n",
            "16 '\n",
            "17 that\n",
            "18 with\n",
            "19 as\n"
          ]
        }
      ],
      "source": [
        "for i in range(20):\n",
        "  print(i, vocab.lookup_token(i))"
      ]
    },
    {
      "cell_type": "code",
      "execution_count": 12,
      "metadata": {
        "colab": {
          "base_uri": "https://localhost:8080/"
        },
        "id": "BwCqHuliE_aY",
        "outputId": "5a02a69d-030a-4bcd-9d81-c1d98bae6bfa"
      },
      "outputs": [
        {
          "name": "stdout",
          "output_type": "stream",
          "text": [
            "['welcome', 'to', 'te3007b'] [3314, 4, 0]\n"
          ]
        }
      ],
      "source": [
        "tokens = tokeniser('Welcome to TE3007B')\n",
        "print(tokens, vocab(tokens))"
      ]
    },
    {
      "cell_type": "code",
      "execution_count": 13,
      "metadata": {
        "id": "1r4FCk7lFnrb"
      },
      "outputs": [],
      "source": [
        "NUM_TRAIN = int(len(train_dataset) * 0.9)\n",
        "NUM_VAL =len(train_dataset) - NUM_TRAIN"
      ]
    },
    {
      "cell_type": "code",
      "execution_count": 14,
      "metadata": {
        "colab": {
          "base_uri": "https://localhost:8080/"
        },
        "id": "yeb8c6VGEqHb",
        "outputId": "da1653c8-3464-46f7-a1c1-d1623454271b"
      },
      "outputs": [
        {
          "data": {
            "text/plain": [
              "12000"
            ]
          },
          "execution_count": 14,
          "metadata": {},
          "output_type": "execute_result"
        }
      ],
      "source": [
        "NUM_VAL"
      ]
    },
    {
      "cell_type": "code",
      "execution_count": 15,
      "metadata": {
        "id": "HLBKs-GAGJMN"
      },
      "outputs": [],
      "source": [
        "train_dataset, val_dataset = random_split(train_dataset, [NUM_TRAIN, NUM_VAL])"
      ]
    },
    {
      "cell_type": "code",
      "execution_count": 16,
      "metadata": {
        "colab": {
          "base_uri": "https://localhost:8080/"
        },
        "id": "JseOELELGI-E",
        "outputId": "4a0f4a71-34ee-470b-8964-e548a26f28ef"
      },
      "outputs": [
        {
          "data": {
            "text/plain": [
              "(108000, 12000, 7600)"
            ]
          },
          "execution_count": 16,
          "metadata": {},
          "output_type": "execute_result"
        }
      ],
      "source": [
        "len(train_dataset), len(val_dataset), len(test_dataset)"
      ]
    },
    {
      "cell_type": "code",
      "execution_count": 17,
      "metadata": {
        "id": "RrRcSoXQIx3Q"
      },
      "outputs": [],
      "source": [
        "max_tokens = 50"
      ]
    },
    {
      "cell_type": "code",
      "execution_count": 18,
      "metadata": {
        "id": "Jz7QjzBVGywI"
      },
      "outputs": [],
      "source": [
        "def collate_batch(batch):\n",
        "  y, x = list(zip(*batch))\n",
        "  # create list with tokens\n",
        "  x = [vocab(tokeniser(text)) for text in x]\n",
        "  # padding or clipping\n",
        "  x = [t + ([0]*(max_tokens - len(t))) if len(t) < max_tokens else t[:max_tokens] for t in x]\n",
        "  return torch.tensor(x, dtype=torch.long), torch.tensor(y, dtype=torch.long)-1"
      ]
    },
    {
      "cell_type": "code",
      "execution_count": 19,
      "metadata": {
        "id": "nOXI_QGcJ0jA"
      },
      "outputs": [],
      "source": [
        "labels = ['World', 'Sports', 'Business', 'Sci/Tech']\n",
        "BATCH_SIZE = 1024"
      ]
    },
    {
      "cell_type": "code",
      "execution_count": 20,
      "metadata": {
        "id": "QP3zmu-XKIAj"
      },
      "outputs": [],
      "source": [
        "# DataLoaders\n",
        "train_loader = DataLoader(train_dataset, \n",
        "                          batch_size=BATCH_SIZE,\n",
        "                          collate_fn=collate_batch,\n",
        "                          shuffle = True)\n",
        "val_loader = DataLoader(val_dataset, \n",
        "                          batch_size=BATCH_SIZE,\n",
        "                          collate_fn=collate_batch,\n",
        "                          shuffle = True)\n",
        "test_loader = DataLoader(test_dataset, \n",
        "                          batch_size=BATCH_SIZE,\n",
        "                          collate_fn=collate_batch,\n",
        "                          shuffle = True)"
      ]
    },
    {
      "cell_type": "code",
      "execution_count": 21,
      "metadata": {
        "colab": {
          "base_uri": "https://localhost:8080/"
        },
        "id": "7lCS_eIYKHwl",
        "outputId": "58081490-d029-40ce-ac9c-56dd4df525e4"
      },
      "outputs": [
        {
          "name": "stdout",
          "output_type": "stream",
          "text": [
            "0 torch.Size([1024, 50]) torch.Size([1024])\n",
            "1 torch.Size([1024, 50]) torch.Size([1024])\n",
            "2 torch.Size([1024, 50]) torch.Size([1024])\n",
            "3 torch.Size([1024, 50]) torch.Size([1024])\n",
            "4 torch.Size([1024, 50]) torch.Size([1024])\n",
            "5 torch.Size([1024, 50]) torch.Size([1024])\n",
            "6 torch.Size([1024, 50]) torch.Size([1024])\n",
            "7 torch.Size([432, 50]) torch.Size([432])\n"
          ]
        }
      ],
      "source": [
        "for i, (x, y) in enumerate(test_loader):\n",
        "  print(i, x.shape, y.shape)"
      ]
    },
    {
      "cell_type": "code",
      "execution_count": 22,
      "metadata": {
        "id": "85PLhr9bLcKD"
      },
      "outputs": [],
      "source": [
        "EMBEDDING_SIZE = 200\n",
        "NEURONS = 200 #hidden\n",
        "LAYERS = 3\n",
        "NUM_CLASSES = 4"
      ]
    },
    {
      "cell_type": "markdown",
      "metadata": {
        "id": "27Oo55qtLTtv"
      },
      "source": [
        "### Let us build our RNN"
      ]
    },
    {
      "cell_type": "code",
      "execution_count": 23,
      "metadata": {
        "id": "4SmE6OyqKHiw"
      },
      "outputs": [],
      "source": [
        "class RNN_Model_1(nn.Module):\n",
        "  def __init__(self, embed_size, hidden, layers, num_classes):\n",
        "    super().__init__()\n",
        "    self.embedding_layer = nn.Embedding(num_embeddings=len(vocab),\n",
        "                                        embedding_dim=embed_size)\n",
        "    \n",
        "    self.rnn = nn.RNN(input_size=embed_size,\n",
        "                      hidden_size = hidden,\n",
        "                      num_layers = layers,\n",
        "                      batch_first = True)\n",
        "\n",
        "    self.fc = nn.Linear(in_features=hidden, out_features= num_classes)\n",
        "\n",
        "  def forward(self, x):\n",
        "    vector_embs = self.embedding_layer(x)\n",
        "    y, h = self.rnn(vector_embs)\n",
        "    return self.fc(y[:,-1])\n",
        "    "
      ]
    },
    {
      "cell_type": "markdown",
      "metadata": {},
      "source": [
        "### Let us build our LSTM"
      ]
    },
    {
      "cell_type": "code",
      "execution_count": 24,
      "metadata": {},
      "outputs": [],
      "source": [
        "class LSTM_Model_1(nn.Module):\n",
        "  def __init__(self, embed_size, hidden, layers, num_classes):\n",
        "    super().__init__()\n",
        "    self.embedding_layer = nn.Embedding(num_embeddings=len(vocab),\n",
        "                                        embedding_dim=embed_size)\n",
        "    \n",
        "    self.lstm = nn.LSTM(input_size=embed_size,\n",
        "                      hidden_size = hidden,\n",
        "                      num_layers = layers,\n",
        "                      batch_first = True)\n",
        "\n",
        "    self.fc = nn.Linear(in_features=hidden, out_features= num_classes)\n",
        "\n",
        "  def forward(self, x):\n",
        "    vector_embs = self.embedding_layer(x)\n",
        "    y, h = self.lstm(vector_embs)\n",
        "    return self.fc(y[:,-1])"
      ]
    },
    {
      "cell_type": "markdown",
      "metadata": {},
      "source": [
        "### Let us build our GRU"
      ]
    },
    {
      "cell_type": "code",
      "execution_count": 25,
      "metadata": {},
      "outputs": [],
      "source": [
        "class GRU_Model_1(nn.Module):\n",
        "  def __init__(self, embed_size, hidden, layers, num_classes):\n",
        "    super().__init__()\n",
        "    self.embedding_layer = nn.Embedding(num_embeddings=len(vocab),\n",
        "                                        embedding_dim=embed_size)\n",
        "    \n",
        "    self.gru = nn.GRU(input_size=embed_size,\n",
        "                      hidden_size = hidden,\n",
        "                      num_layers = layers,\n",
        "                      batch_first = True)\n",
        "\n",
        "    self.fc = nn.Linear(in_features=hidden, out_features= num_classes)\n",
        "\n",
        "  def forward(self, x):\n",
        "    vector_embs = self.embedding_layer(x)\n",
        "    y, h = self.gru(vector_embs)\n",
        "    return self.fc(y[:,-1])"
      ]
    },
    {
      "cell_type": "markdown",
      "metadata": {},
      "source": [
        "### Check models"
      ]
    },
    {
      "cell_type": "code",
      "execution_count": 26,
      "metadata": {
        "id": "QVnQqnzjOmh9"
      },
      "outputs": [],
      "source": [
        "rnn_model = RNN_Model_1(EMBEDDING_SIZE, NEURONS, LAYERS, NUM_CLASSES)\n",
        "lstm_model = LSTM_Model_1(EMBEDDING_SIZE, NEURONS, LAYERS, NUM_CLASSES)\n",
        "gru_model = GRU_Model_1(EMBEDDING_SIZE, NEURONS, LAYERS, NUM_CLASSES)"
      ]
    },
    {
      "cell_type": "code",
      "execution_count": 27,
      "metadata": {
        "colab": {
          "base_uri": "https://localhost:8080/"
        },
        "id": "eoqx6jZPKHSO",
        "outputId": "2fa7233b-0db1-4f1f-b9b2-396974e9ffec"
      },
      "outputs": [
        {
          "data": {
            "text/plain": [
              "RNN_Model_1(\n",
              "  (embedding_layer): Embedding(95811, 200)\n",
              "  (rnn): RNN(200, 200, num_layers=3, batch_first=True)\n",
              "  (fc): Linear(in_features=200, out_features=4, bias=True)\n",
              ")"
            ]
          },
          "execution_count": 27,
          "metadata": {},
          "output_type": "execute_result"
        }
      ],
      "source": [
        "rnn_model"
      ]
    },
    {
      "cell_type": "code",
      "execution_count": 28,
      "metadata": {},
      "outputs": [
        {
          "data": {
            "text/plain": [
              "LSTM_Model_1(\n",
              "  (embedding_layer): Embedding(95811, 200)\n",
              "  (lstm): LSTM(200, 200, num_layers=3, batch_first=True)\n",
              "  (fc): Linear(in_features=200, out_features=4, bias=True)\n",
              ")"
            ]
          },
          "execution_count": 28,
          "metadata": {},
          "output_type": "execute_result"
        }
      ],
      "source": [
        "lstm_model"
      ]
    },
    {
      "cell_type": "code",
      "execution_count": 29,
      "metadata": {},
      "outputs": [
        {
          "data": {
            "text/plain": [
              "GRU_Model_1(\n",
              "  (embedding_layer): Embedding(95811, 200)\n",
              "  (gru): GRU(200, 200, num_layers=3, batch_first=True)\n",
              "  (fc): Linear(in_features=200, out_features=4, bias=True)\n",
              ")"
            ]
          },
          "execution_count": 29,
          "metadata": {},
          "output_type": "execute_result"
        }
      ],
      "source": [
        "gru_model"
      ]
    },
    {
      "cell_type": "markdown",
      "metadata": {},
      "source": [
        "### Apply our model"
      ]
    },
    {
      "cell_type": "code",
      "execution_count": 30,
      "metadata": {
        "id": "MiNQrNyJO9Fd"
      },
      "outputs": [],
      "source": [
        "def accuracy(model, loader):\n",
        "    num_correct = 0\n",
        "    num_total = 0\n",
        "    model.eval()\n",
        "    model = model.to(device=device)\n",
        "    with torch.no_grad():\n",
        "        for x, y in loader:\n",
        "            x = x.to(device=device, dtype = torch.long)\n",
        "            y = y.to(device=device, dtype = torch.long)\n",
        "            scores = model(x)\n",
        "            _, preds = scores.max(dim=1)\n",
        "            num_correct += (preds == y).sum()\n",
        "            num_total += preds.size(0)\n",
        "        acc = float(num_correct)/num_total\n",
        "        return acc"
      ]
    },
    {
      "cell_type": "code",
      "execution_count": 31,
      "metadata": {
        "id": "HqpYk5hYO8zK"
      },
      "outputs": [],
      "source": [
        "def train(model, optimiser, epochs=100):\n",
        "  model = model.to(device=device)\n",
        "  for epoch in range(epochs):\n",
        "    for i, (x, y) in enumerate(train_loader):\n",
        "      model.train()\n",
        "      x = x.to(device=device, dtype=torch.long)\n",
        "      y = y.to(device=device, dtype=torch.long)\n",
        "      # run model\n",
        "      scores = model(x)\n",
        "      # compute cost\n",
        "      cost = F.cross_entropy(input=scores, target=y)\n",
        "      # reset gradient\n",
        "      optimiser.zero_grad()\n",
        "      # compute gradient\n",
        "      cost.backward()\n",
        "      # update parameter\n",
        "      optimiser.step()\n",
        "    acc = accuracy(model, val_loader)\n",
        "    print(f'Epoch {epoch}, costo {cost.item():.4f}, val acc {acc:.4f}')\n"
      ]
    },
    {
      "cell_type": "code",
      "execution_count": 32,
      "metadata": {
        "id": "Y_RGXqe4Jz9y"
      },
      "outputs": [],
      "source": [
        "epochs = 10\n",
        "lr = 0.0005\n",
        "\n",
        "optimiser = torch.optim.Adam(gru_model.parameters(), lr=lr)"
      ]
    },
    {
      "cell_type": "code",
      "execution_count": 33,
      "metadata": {
        "colab": {
          "base_uri": "https://localhost:8080/"
        },
        "id": "uYmGSL9I_bP3",
        "outputId": "d2b70b42-111f-4684-f80e-76270f43a845"
      },
      "outputs": [
        {
          "name": "stdout",
          "output_type": "stream",
          "text": [
            "Epoch 0, costo 0.6248, val acc 0.8049\n",
            "Epoch 1, costo 0.4216, val acc 0.8684\n",
            "Epoch 2, costo 0.3070, val acc 0.8848\n",
            "Epoch 3, costo 0.3011, val acc 0.8942\n",
            "Epoch 4, costo 0.1583, val acc 0.8968\n",
            "Epoch 5, costo 0.1454, val acc 0.9024\n",
            "Epoch 6, costo 0.1213, val acc 0.9057\n",
            "Epoch 7, costo 0.1382, val acc 0.9017\n",
            "Epoch 8, costo 0.1461, val acc 0.8996\n",
            "Epoch 9, costo 0.0853, val acc 0.8977\n"
          ]
        }
      ],
      "source": [
        "train(gru_model, optimiser, epochs)"
      ]
    },
    {
      "cell_type": "code",
      "execution_count": 34,
      "metadata": {
        "colab": {
          "base_uri": "https://localhost:8080/"
        },
        "id": "aodsTWcVSUrx",
        "outputId": "c166ed44-f315-4394-ac79-d1ba8ac33b72"
      },
      "outputs": [
        {
          "name": "stdout",
          "output_type": "stream",
          "text": [
            "0.8996\n"
          ]
        }
      ],
      "source": [
        "print(f'{accuracy(gru_model, test_loader):.4f}')"
      ]
    },
    {
      "cell_type": "code",
      "execution_count": null,
      "metadata": {},
      "outputs": [],
      "source": []
    }
  ],
  "metadata": {
    "accelerator": "GPU",
    "colab": {
      "provenance": []
    },
    "kernelspec": {
      "display_name": "Python 3.10.4 ('ai')",
      "language": "python",
      "name": "python3"
    },
    "language_info": {
      "codemirror_mode": {
        "name": "ipython",
        "version": 3
      },
      "file_extension": ".py",
      "mimetype": "text/x-python",
      "name": "python",
      "nbconvert_exporter": "python",
      "pygments_lexer": "ipython3",
      "version": "3.10.4"
    },
    "vscode": {
      "interpreter": {
        "hash": "709cfaab1512c8720cadf1da06024fdcf6db603208cc75994ec9be919e786359"
      }
    }
  },
  "nbformat": 4,
  "nbformat_minor": 0
}
