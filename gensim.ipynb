{
 "cells": [
  {
   "cell_type": "markdown",
   "metadata": {},
   "source": [
    "## __Actividad 1 - Natural Language Processing__\n",
    "\n",
    "Integrantes del equipo:\n",
    "- David Guzmán Leyva - A01706417\n",
    "- Enrique Santos Fraire - A01705746\n",
    "- Leonardo Alvarado Menéndez - A01705998\n",
    "- Oscar Enrique Delgadillo Ochoa - A01705935\n",
    "\n",
    "Actividades:\n",
    "1. Implementar función de semejanza y distancia a partir de los vectores de embeddings que se vieron en clases.\n",
    "2. Implementar función que permite realizar analagías dadas 3 palabras, como los ejemplos que se vieron en clases.\n",
    "3. Implementar función para hacer plot de palabras en dos dimensiones utilizando PCA para reducir la dimensionalidad de los vectores."
   ]
  },
  {
   "cell_type": "code",
   "execution_count": 8,
   "metadata": {},
   "outputs": [],
   "source": [
    "import numpy as np\n",
    "from numpy.linalg import norm\n",
    "\n",
    "from gensim.models import KeyedVectors\n",
    "from gensim.test.utils import datapath, get_tmpfile\n",
    "from gensim.scripts.glove2word2vec import glove2word2vec\n",
    "\n",
    "import matplotlib.pyplot as plt\n",
    "# plt.style.une('ggplot')\n",
    "\n",
    "from sklearn.decomposition import PCA"
   ]
  },
  {
   "cell_type": "code",
   "execution_count": 9,
   "metadata": {},
   "outputs": [
    {
     "name": "stderr",
     "output_type": "stream",
     "text": [
      "C:\\Users\\Oscar\\AppData\\Local\\Temp\\ipykernel_18176\\2996178563.py:4: DeprecationWarning: Call to deprecated `glove2word2vec` (KeyedVectors.load_word2vec_format(.., binary=False, no_header=True) loads GLoVE text vectors.).\n",
      "  glove2word2vec(glove_file, word2vec_glove_file)\n"
     ]
    },
    {
     "data": {
      "text/plain": [
       "(400000, 100)"
      ]
     },
     "execution_count": 9,
     "metadata": {},
     "output_type": "execute_result"
    }
   ],
   "source": [
    "glove_file = datapath(\"C:/Users/Oscar/Documents/Aprender/Universidad/Semestre_7/Bloque_1-3/IA avanzada para la ciencia de datos II/NLP/glove.6B.100d.txt\");\n",
    "\n",
    "word2vec_glove_file = get_tmpfile(\"glove.6B.100d.word2vec.txt\");\n",
    "glove2word2vec(glove_file, word2vec_glove_file);"
   ]
  },
  {
   "cell_type": "code",
   "execution_count": 10,
   "metadata": {},
   "outputs": [],
   "source": [
    "# Load model\n",
    "model = KeyedVectors.load_word2vec_format(word2vec_glove_file)"
   ]
  },
  {
   "cell_type": "code",
   "execution_count": 31,
   "metadata": {},
   "outputs": [
    {
     "data": {
      "text/plain": [
       "[('dog', 0.8798074126243591),\n",
       " ('rabbit', 0.7424427270889282),\n",
       " ('cats', 0.732300341129303),\n",
       " ('monkey', 0.7288709878921509),\n",
       " ('pet', 0.7190139889717102),\n",
       " ('dogs', 0.7163873314857483),\n",
       " ('mouse', 0.6915250420570374),\n",
       " ('puppy', 0.6800068616867065),\n",
       " ('rat', 0.6641027331352234),\n",
       " ('spider', 0.6501135230064392)]"
      ]
     },
     "execution_count": 31,
     "metadata": {},
     "output_type": "execute_result"
    }
   ],
   "source": [
    "# Test model\n",
    "model.most_similar('raw')\n",
    "model.most_similar('scary')\n",
    "model.most_similar('python')\n",
    "model.most_similar('cat')"
   ]
  },
  {
   "cell_type": "markdown",
   "metadata": {},
   "source": [
    "### __Create functions__"
   ]
  },
  {
   "cell_type": "code",
   "execution_count": null,
   "metadata": {},
   "outputs": [],
   "source": [
    "# 1. Función de semejanza y distancia\n",
    "def print_sim_distance(w1, w2):\n",
    "    A, B = model[w1], model[w2]\n",
    "    # use cosine similarity to get distance\n",
    "    distance =  np.dot(A,B)/(norm(A)*norm(B))\n",
    "    return f\"{w1} is {distance} similar to {w2}\""
   ]
  },
  {
   "cell_type": "code",
   "execution_count": 191,
   "metadata": {},
   "outputs": [],
   "source": [
    "# 2. Función que permite realizar analagías dadas 3 palabras\n",
    "def print_analogy(w1, w2, y1):\n",
    "    # use formula to get analogy between 2 words\n",
    "    analogy = (model[w2] - model[w1]) + model[y1]\n",
    "    res = model.most_similar(analogy)\n",
    "    return f\"{w1} is a {w2} as {y1} is to {res[1][0]}\"\n"
   ]
  },
  {
   "cell_type": "code",
   "execution_count": null,
   "metadata": {},
   "outputs": [],
   "source": [
    "# Función para hacer plot de palabras en dos dimensiones utilizando PCA\n",
    "def display_wordmap(model, words):\n",
    "    pca = PCA(n_components=2)  # seleccionamos 2 dimensiones\n",
    "    data = pca.fit_transform(model)  # aplicamos pca\n",
    "    plt.figure(figsize=(10, 7), dpi=100)\n",
    "    plt.plot(data[:, 0], data[:, 1], '.')\n",
    "    for i in range(len(data)):\n",
    "        plt.annotate(words[i], xy=data[i])"
   ]
  },
  {
   "cell_type": "markdown",
   "metadata": {},
   "source": [
    "### __Test our functions__"
   ]
  },
  {
   "cell_type": "code",
   "execution_count": 192,
   "metadata": {},
   "outputs": [
    {
     "data": {
      "text/plain": [
       "'cat is 0.8798074126243591 similar to dog'"
      ]
     },
     "execution_count": 192,
     "metadata": {},
     "output_type": "execute_result"
    }
   ],
   "source": [
    "print_sim_distance('cat', 'dog')"
   ]
  },
  {
   "cell_type": "code",
   "execution_count": 193,
   "metadata": {},
   "outputs": [
    {
     "data": {
      "text/plain": [
       "'man is a king as woman is to queen'"
      ]
     },
     "execution_count": 193,
     "metadata": {},
     "output_type": "execute_result"
    }
   ],
   "source": [
    "print_analogy('man', 'king', 'woman')"
   ]
  },
  {
   "cell_type": "code",
   "execution_count": 194,
   "metadata": {},
   "outputs": [
    {
     "data": {
      "image/png": "[encoded data removed]",
      "text/plain": [
       "<Figure size 1000x700 with 1 Axes>"
      ]
     },
     "metadata": {
      "needs_background": "light"
     },
     "output_type": "display_data"
    }
   ],
   "source": [
    "data = [model[w] for w in words]\n",
    "words = ['dog', 'cat', 'monkey', 'people', 'leo', 'david', 'python', 'c++', 'sushi', 'mexico',\n",
    "         'china', 'usa', 'karate', 'tequila', 'lion', 'c', 'ia', 'robotics', 'men', 'queen']\n",
    "display_wordmap(data, words)"
   ]
  },
  {
   "cell_type": "code",
   "execution_count": null,
   "metadata": {},
   "outputs": [],
   "source": []
  }
 ],
 "metadata": {
  "kernelspec": {
   "display_name": "Python 3.8.5 ('base')",
   "language": "python",
   "name": "python3"
  },
  "language_info": {
   "codemirror_mode": {
    "name": "ipython",
    "version": 3
   },
   "file_extension": ".py",
   "mimetype": "text/x-python",
   "name": "python",
   "nbconvert_exporter": "python",
   "pygments_lexer": "ipython3",
   "version": "3.8.5"
  },
  "orig_nbformat": 4,
  "vscode": {
   "interpreter": {
    "hash": "437a4b58f269e6e7b32a6d55bbcbeee7fac7b1a936f84ed54bdc3e1d181a9290"
   }
  }
 },
 "nbformat": 4,
 "nbformat_minor": 2
}
